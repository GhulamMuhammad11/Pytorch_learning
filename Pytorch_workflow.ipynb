{
 "cells": [
  {
   "cell_type": "code",
   "execution_count": 3,
   "id": "0e6effdf-f3a1-41cf-8cd4-af8d8af5e8da",
   "metadata": {},
   "outputs": [],
   "source": [
    "import torch \n",
    "from torch import nn\n",
    "import matplotlib.pyplot as plt"
   ]
  },
  {
   "cell_type": "code",
   "execution_count": 5,
   "id": "b1ec39e7-417b-4cc4-8bdc-d60c4ba94dae",
   "metadata": {},
   "outputs": [
    {
     "data": {
      "text/plain": [
       "'2.4.1'"
      ]
     },
     "execution_count": 5,
     "metadata": {},
     "output_type": "execute_result"
    }
   ],
   "source": [
    "torch.__version__"
   ]
  },
  {
   "cell_type": "markdown",
   "id": "9bed356e-e88b-41ce-928e-8bbce707b6a7",
   "metadata": {},
   "source": [
    "## What we are going to cover"
   ]
  },
  {
   "cell_type": "markdown",
   "id": "8a663ff2-db35-40c4-a01d-22a3a74e0314",
   "metadata": {},
   "source": [
    "#### We will use the workflow to predict a simple straight line(Linear Regression)"
   ]
  },
  {
   "cell_type": "markdown",
   "id": "410a929f-4803-4aa8-9193-703420634eb8",
   "metadata": {},
   "source": [
    "##### \n",
    "1: \"data (prepare and load)\",\n",
    "   \n",
    "2: \"build model\",\n",
    "\n",
    "3: \"fitting the model to data (training)\",\n",
    "\n",
    "4: \"making predictions and evaluating a model (inference)\",\n",
    "\n",
    "5: \"saving and loading a model\",\n",
    "\n",
    "6: \"putting it all together\""
   ]
  },
  {
   "cell_type": "markdown",
   "id": "4a1a64c2-8d0b-430f-bda2-d4ab79a72356",
   "metadata": {},
   "source": [
    "#### 1. Data(prepare and load)"
   ]
  },
  {
   "cell_type": "markdown",
   "id": "f2305011-3e18-4f98-9e02-93711d8b4d85",
   "metadata": {},
   "source": [
    "#####\n",
    "we will use linear regression to create the data with known parameters(things that can be learned by a model) and then we'll use pytorch to see if we can build model to estimate these parameters using gradient descent"
   ]
  },
  {
   "cell_type": "code",
   "execution_count": 125,
   "id": "fe6a1c3e-a3b7-4782-8a16-bb269e7d86c9",
   "metadata": {},
   "outputs": [],
   "source": [
    "weight = 0.7\n",
    "bias = 0.3\n",
    "\n",
    "# Create data\n",
    "start = 0\n",
    "end = 1\n",
    "step = 0.02\n",
    "X = torch.arange(start, end, step).unsqueeze(dim=1)\n",
    "y = weight * X + bias\n"
   ]
  },
  {
   "cell_type": "code",
   "execution_count": 127,
   "id": "bda81341-9329-4418-bb4b-24b4a3c369c9",
   "metadata": {
    "scrolled": true
   },
   "outputs": [
    {
     "data": {
      "text/plain": [
       "(tensor([[0.0000],\n",
       "         [0.0200],\n",
       "         [0.0400],\n",
       "         [0.0600],\n",
       "         [0.0800],\n",
       "         [0.1000],\n",
       "         [0.1200],\n",
       "         [0.1400],\n",
       "         [0.1600],\n",
       "         [0.1800],\n",
       "         [0.2000],\n",
       "         [0.2200],\n",
       "         [0.2400],\n",
       "         [0.2600],\n",
       "         [0.2800],\n",
       "         [0.3000],\n",
       "         [0.3200],\n",
       "         [0.3400],\n",
       "         [0.3600],\n",
       "         [0.3800],\n",
       "         [0.4000],\n",
       "         [0.4200],\n",
       "         [0.4400],\n",
       "         [0.4600],\n",
       "         [0.4800],\n",
       "         [0.5000],\n",
       "         [0.5200],\n",
       "         [0.5400],\n",
       "         [0.5600],\n",
       "         [0.5800],\n",
       "         [0.6000],\n",
       "         [0.6200],\n",
       "         [0.6400],\n",
       "         [0.6600],\n",
       "         [0.6800],\n",
       "         [0.7000],\n",
       "         [0.7200],\n",
       "         [0.7400],\n",
       "         [0.7600],\n",
       "         [0.7800],\n",
       "         [0.8000],\n",
       "         [0.8200],\n",
       "         [0.8400],\n",
       "         [0.8600],\n",
       "         [0.8800],\n",
       "         [0.9000],\n",
       "         [0.9200],\n",
       "         [0.9400],\n",
       "         [0.9600],\n",
       "         [0.9800]]),\n",
       " tensor([[0.3000],\n",
       "         [0.3140],\n",
       "         [0.3280],\n",
       "         [0.3420],\n",
       "         [0.3560],\n",
       "         [0.3700],\n",
       "         [0.3840],\n",
       "         [0.3980],\n",
       "         [0.4120],\n",
       "         [0.4260],\n",
       "         [0.4400],\n",
       "         [0.4540],\n",
       "         [0.4680],\n",
       "         [0.4820],\n",
       "         [0.4960],\n",
       "         [0.5100],\n",
       "         [0.5240],\n",
       "         [0.5380],\n",
       "         [0.5520],\n",
       "         [0.5660],\n",
       "         [0.5800],\n",
       "         [0.5940],\n",
       "         [0.6080],\n",
       "         [0.6220],\n",
       "         [0.6360],\n",
       "         [0.6500],\n",
       "         [0.6640],\n",
       "         [0.6780],\n",
       "         [0.6920],\n",
       "         [0.7060],\n",
       "         [0.7200],\n",
       "         [0.7340],\n",
       "         [0.7480],\n",
       "         [0.7620],\n",
       "         [0.7760],\n",
       "         [0.7900],\n",
       "         [0.8040],\n",
       "         [0.8180],\n",
       "         [0.8320],\n",
       "         [0.8460],\n",
       "         [0.8600],\n",
       "         [0.8740],\n",
       "         [0.8880],\n",
       "         [0.9020],\n",
       "         [0.9160],\n",
       "         [0.9300],\n",
       "         [0.9440],\n",
       "         [0.9580],\n",
       "         [0.9720],\n",
       "         [0.9860]]))"
      ]
     },
     "execution_count": 127,
     "metadata": {},
     "output_type": "execute_result"
    }
   ],
   "source": [
    "X,y"
   ]
  },
  {
   "cell_type": "code",
   "execution_count": 129,
   "id": "40c0df8e-a968-458c-8c24-201718bc10dd",
   "metadata": {},
   "outputs": [
    {
     "data": {
      "text/plain": [
       "<matplotlib.collections.PathCollection at 0x198cb319490>"
      ]
     },
     "execution_count": 129,
     "metadata": {},
     "output_type": "execute_result"
    },
    {
     "data": {
      "image/png": "[encoded data removed]",
      "text/plain": [
       "<Figure size 640x480 with 1 Axes>"
      ]
     },
     "metadata": {},
     "output_type": "display_data"
    }
   ],
   "source": [
    "plt.scatter(X,y)"
   ]
  },
  {
   "cell_type": "markdown",
   "id": "a90f0d3f-bc69-4169-9041-2a6ff0e82eba",
   "metadata": {},
   "source": [
    "#### 1.1 Splitting the Data"
   ]
  },
  {
   "cell_type": "code",
   "execution_count": 142,
   "id": "f5795dc4-c870-4a3f-88cc-b94d58ab0c65",
   "metadata": {},
   "outputs": [],
   "source": [
    "# First of all, we will split the data into train, validation, and test data. This is the most important steps in machine learning.\n",
    "\n",
    "train_split = int(0.8 * len(X))\n",
    "X_train, y_train = X[:train_split], y[:train_split]\n",
    "X_test, y_test = X[train_split:], y[train_split:]"
   ]
  },
  {
   "cell_type": "code",
   "execution_count": 144,
   "id": "d14d748a-0f26-4002-bfb3-0fa2a36fbf52",
   "metadata": {},
   "outputs": [
    {
     "data": {
      "text/plain": [
       "(40, 40, 10, 10)"
      ]
     },
     "execution_count": 144,
     "metadata": {},
     "output_type": "execute_result"
    }
   ],
   "source": [
    "len(X_train), len(y_train), len(X_test), len(y_test)"
   ]
  },
  {
   "cell_type": "code",
   "execution_count": 146,
   "id": "34ff1782-14da-40a9-9e87-a98d045ac15f",
   "metadata": {},
   "outputs": [],
   "source": [
    "def plot_predictions(train_data = X_train,\n",
    "                    train_labels = y_train,\n",
    "                    test_data = X_test,\n",
    "                    test_labels = y_test,\n",
    "                    predictions = None):\n",
    "\n",
    "    plt.figure(figsize = (10,7))\n",
    "\n",
    "    plt.scatter(train_data, train_labels, c = \"b\", s= 4, label = \"Training data\")\n",
    "\n",
    "    plt.scatter(test_data, test_labels, c = \"g\", s = 4, label = \"Testing data\")\n",
    "\n",
    "    if predictions is not None:\n",
    "        plt.scatter(test_data, predictions, c = \"r\",s = 4, label = \"Predictions\")\n",
    "\n",
    "    plt.legend(prop = {\"size\": 14})"
   ]
  },
  {
   "cell_type": "code",
   "execution_count": 148,
   "id": "f220030e-6342-46cf-afe5-cbb957d212d7",
   "metadata": {},
   "outputs": [
    {
     "data": {
      "image/png": "[encoded data removed]",
      "text/plain": [
       "<Figure size 1000x700 with 1 Axes>"
      ]
     },
     "metadata": {},
     "output_type": "display_data"
    }
   ],
   "source": [
    "plot_predictions()"
   ]
  },
  {
   "cell_type": "markdown",
   "id": "1540b536-3a4d-40d9-8714-3fbb233bb10f",
   "metadata": {},
   "source": [
    "#### 2. Build model"
   ]
  },
  {
   "cell_type": "code",
   "execution_count": 153,
   "id": "f4d9e36d-af65-4c2e-9409-0e9a738485f1",
   "metadata": {},
   "outputs": [],
   "source": [
    "class LinearRegressionModel(nn.Module):\n",
    "    def __init__(self):\n",
    "        super().__init__()\n",
    "        \n",
    "        self.weights = nn.Parameter(torch.randn(1,dtype = torch.float),requires_grad = True)\n",
    "\n",
    "        self.bias = nn.Parameter(torch.randn(1, dtype = torch.float),requires_grad = True)\n",
    "\n",
    "    def forward(self, x:torch.Tensor) -> torch.Tensor:\n",
    "        return self.weights * x + self.bias"
   ]
  },
  {
   "cell_type": "markdown",
   "id": "b14d08d2-cad1-40cc-a3c2-5f9f12d28f34",
   "metadata": {},
   "source": [
    "##### \n",
    "Pytorch has four essential modules you can use to create almost any kind of neural network you can imagine. They are torch.nn, torch.optim, torch.utils.data.Dataset and torch.utils.data.DataLoader. For now, we will discuss only about first two. \n",
    "\n",
    "torch.nn: Contains all of the building blocks for computational graphs(essentially a series of computations executed in a                                         particular way)\n",
    "\n",
    "torch.nn.Parameter: Stores tensors that can be used with nn.module. If requires_grad = True gradients(used for updating model                                               parameters via gradient descent) are calculated automatically, this is often referred to as \"autograd\".\n",
    "\n",
    "torch.optim: Contains various optimization algorithms\n",
    "\n",
    "df forward(): All nn.module subclasses require a forward() method, this defines the computation that will take place on the data                                      passed to the particular nn.module(e.g the linear regression formula above)"
   ]
  },
  {
   "cell_type": "markdown",
   "id": "501c9c51-fd2f-4b72-bf02-b1b5eebab132",
   "metadata": {},
   "source": [
    "#### 2.1 Checking the contents of a pytorch model"
   ]
  },
  {
   "cell_type": "code",
   "execution_count": 155,
   "id": "42a4a67b-8251-4223-9412-abb14b0d0232",
   "metadata": {},
   "outputs": [
    {
     "data": {
      "text/plain": [
       "[Parameter containing:\n",
       " tensor([0.3367], requires_grad=True),\n",
       " Parameter containing:\n",
       " tensor([0.1288], requires_grad=True)]"
      ]
     },
     "execution_count": 155,
     "metadata": {},
     "output_type": "execute_result"
    }
   ],
   "source": [
    "torch.manual_seed(42)\n",
    "\n",
    "model_0 = LinearRegressionModel()\n",
    "\n",
    "list(model_0.parameters())"
   ]
  },
  {
   "cell_type": "code",
   "execution_count": 157,
   "id": "07e25a2d-6058-4e55-b64b-7f5ab13efd53",
   "metadata": {},
   "outputs": [
    {
     "data": {
      "text/plain": [
       "OrderedDict([('weights', tensor([0.3367])), ('bias', tensor([0.1288]))])"
      ]
     },
     "execution_count": 157,
     "metadata": {},
     "output_type": "execute_result"
    }
   ],
   "source": [
    "# List named parameters \n",
    "model_0.state_dict()"
   ]
  },
  {
   "cell_type": "markdown",
   "id": "105999e1-72d5-4021-82c0-508cd4f4b959",
   "metadata": {},
   "source": [
    "#### 2.2 Making Predictions using torch.inference_mode()"
   ]
  },
  {
   "cell_type": "code",
   "execution_count": 163,
   "id": "b0458ed3-44c4-4a57-96c9-9687dd87111c",
   "metadata": {},
   "outputs": [],
   "source": [
    "with torch.inference_mode():\n",
    "    y_preds = model_0(X_test)"
   ]
  },
  {
   "cell_type": "code",
   "execution_count": 165,
   "id": "e5c2c5d1-48fe-445c-9a65-9dd712618849",
   "metadata": {},
   "outputs": [
    {
     "data": {
      "image/png": "[encoded data removed]",
      "text/plain": [
       "<Figure size 1000x700 with 1 Axes>"
      ]
     },
     "metadata": {},
     "output_type": "display_data"
    }
   ],
   "source": [
    "plot_predictions(predictions=y_preds)"
   ]
  },
  {
   "cell_type": "markdown",
   "id": "623f2402-1532-46fc-a28d-ccb927c02235",
   "metadata": {},
   "source": [
    "#### 3. Train model"
   ]
  },
  {
   "cell_type": "code",
   "execution_count": 171,
   "id": "3cf7130f-c74e-4973-96ac-dbdcdffc5d51",
   "metadata": {},
   "outputs": [],
   "source": [
    "#Create the loss function\n",
    "loss_fn = nn.L1Loss() #MAE loss is same as L1loss\n",
    "\n",
    "#create an optimizer\n",
    "optimizer = torch.optim.SGD(params = model_0.parameters(), lr = 0.01)"
   ]
  },
  {
   "cell_type": "code",
   "execution_count": 172,
   "id": "cbdcfeb9-a6d3-4501-a560-1f4b7a7ade52",
   "metadata": {},
   "outputs": [
    {
     "name": "stdout",
     "output_type": "stream",
     "text": [
      "Epoch: 0 | MAE Train loss: 0.31288138031959534 | MAE Test loss: 0.48106518387794495\n",
      "Epoch: 10 | MAE Train loss: 0.1976713240146637 | MAE Test loss: 0.3463551998138428\n",
      "Epoch: 20 | MAE Train loss: 0.08908725529909134 | MAE Test loss: 0.21729660034179688\n",
      "Epoch: 30 | MAE Train loss: 0.053148526698350906 | MAE Test loss: 0.14464017748832703\n",
      "Epoch: 40 | MAE Train loss: 0.04543796554207802 | MAE Test loss: 0.11360953003168106\n",
      "Epoch: 50 | MAE Train loss: 0.04167863354086876 | MAE Test loss: 0.09919948130846024\n",
      "Epoch: 60 | MAE Train loss: 0.03818932920694351 | MAE Test loss: 0.08886633068323135\n",
      "Epoch: 70 | MAE Train loss: 0.03476089984178543 | MAE Test loss: 0.0805937647819519\n",
      "Epoch: 80 | MAE Train loss: 0.03132382780313492 | MAE Test loss: 0.07232122868299484\n",
      "Epoch: 90 | MAE Train loss: 0.02788739837706089 | MAE Test loss: 0.06473556160926819\n",
      "Epoch: 100 | MAE Train loss: 0.024458957836031914 | MAE Test loss: 0.05646304413676262\n",
      "Epoch: 110 | MAE Train loss: 0.021020207554101944 | MAE Test loss: 0.04819049686193466\n",
      "Epoch: 120 | MAE Train loss: 0.01758546568453312 | MAE Test loss: 0.04060482233762741\n",
      "Epoch: 130 | MAE Train loss: 0.014155393466353416 | MAE Test loss: 0.03233227878808975\n",
      "Epoch: 140 | MAE Train loss: 0.010716589167714119 | MAE Test loss: 0.024059748277068138\n",
      "Epoch: 150 | MAE Train loss: 0.0072835334576666355 | MAE Test loss: 0.016474086791276932\n",
      "Epoch: 160 | MAE Train loss: 0.0038517764769494534 | MAE Test loss: 0.008201557211577892\n",
      "Epoch: 170 | MAE Train loss: 0.008932482451200485 | MAE Test loss: 0.005023092031478882\n",
      "Epoch: 180 | MAE Train loss: 0.008932482451200485 | MAE Test loss: 0.005023092031478882\n",
      "Epoch: 190 | MAE Train loss: 0.008932482451200485 | MAE Test loss: 0.005023092031478882\n"
     ]
    }
   ],
   "source": [
    "torch.manual_seed(42)\n",
    "\n",
    "epochs = 200\n",
    "train_loss_values = []\n",
    "test_loss_values = []\n",
    "epoch_count = []\n",
    "\n",
    "for epoch in range(epochs):\n",
    "\n",
    "    model_0.train()\n",
    "\n",
    "    y_pred = model_0(X_train)\n",
    "    loss = loss_fn(y_pred, y_train)\n",
    "\n",
    "    optimizer.zero_grad()\n",
    "    loss.backward()\n",
    "    optimizer.step()\n",
    "    model_0.eval()\n",
    "\n",
    "    with torch.inference_mode():\n",
    "        test_pred = model_0(X_test)\n",
    "        test_loss = loss_fn(test_pred, y_test.type(torch.float))\n",
    "\n",
    "        if epoch % 10 == 0:\n",
    "            epoch_count.append(epoch)\n",
    "            train_loss_values.append(loss.detach().numpy())\n",
    "            test_loss_values.append(test_loss.detach().numpy())\n",
    "            print(f\"Epoch: {epoch} | MAE Train loss: {loss} | MAE Test loss: {test_loss}\")"
   ]
  },
  {
   "cell_type": "code",
   "execution_count": 175,
   "id": "dc172737-b6d7-4c9c-b093-47e453463679",
   "metadata": {},
   "outputs": [
    {
     "data": {
      "image/png": "[encoded data removed]",
      "text/plain": [
       "<Figure size 640x480 with 1 Axes>"
      ]
     },
     "metadata": {},
     "output_type": "display_data"
    }
   ],
   "source": [
    "# Plot the loss curves\n",
    "plt.plot(epoch_count, train_loss_values, label=\"Train loss\")\n",
    "plt.plot(epoch_count, test_loss_values, label=\"Test loss\")\n",
    "plt.title(\"Training and test loss curves\")\n",
    "plt.ylabel(\"Loss\")\n",
    "plt.xlabel(\"Epochs\")\n",
    "plt.legend();"
   ]
  },
  {
   "cell_type": "code",
   "execution_count": 177,
   "id": "f296457a-817d-4b63-a014-a4404112b6b7",
   "metadata": {},
   "outputs": [
    {
     "name": "stdout",
     "output_type": "stream",
     "text": [
      "The model learned the following values for weights and bias:\n",
      "OrderedDict({'weights': tensor([0.6990]), 'bias': tensor([0.3093])})\n",
      "\n",
      "And the original values for weights and bias are:\n",
      "weights: 0.7, bias: 0.3\n"
     ]
    }
   ],
   "source": [
    "# Find our model's learned parameters\n",
    "print(\"The model learned the following values for weights and bias:\")\n",
    "print(model_0.state_dict())\n",
    "print(\"\\nAnd the original values for weights and bias are:\")\n",
    "print(f\"weights: {weight}, bias: {bias}\")"
   ]
  },
  {
   "cell_type": "markdown",
   "id": "c5dea124-7cbc-4337-a637-c979f488ddb9",
   "metadata": {},
   "source": [
    "#### 4. Making Predictions with a trained model"
   ]
  },
  {
   "cell_type": "code",
   "execution_count": null,
   "id": "156cd9f3-39d5-4a9f-8505-5da7fd28acf7",
   "metadata": {},
   "outputs": [],
   "source": []
  }
 ],
 "metadata": {
  "kernelspec": {
   "display_name": "Python 3 (ipykernel)",
   "language": "python",
   "name": "python3"
  },
  "language_info": {
   "codemirror_mode": {
    "name": "ipython",
    "version": 3
   },
   "file_extension": ".py",
   "mimetype": "text/x-python",
   "name": "python",
   "nbconvert_exporter": "python",
   "pygments_lexer": "ipython3",
   "version": "3.12.4"
  }
 },
 "nbformat": 4,
 "nbformat_minor": 5
}
